{
 "cells": [
  {
   "cell_type": "code",
   "execution_count": 164,
   "metadata": {},
   "outputs": [],
   "source": [
    "import numpy as np\n",
    "import pandas as pd\n",
    "import seaborn as sns\n",
    "from pathlib import Path\n",
    "import os\n",
    "import yaml\n",
    "from omegaconf import DictConfig\n",
    "import matplotlib.pyplot as plt\n",
    "import matplotlib.ticker as mticker"
   ]
  },
  {
   "cell_type": "code",
   "execution_count": 143,
   "metadata": {},
   "outputs": [],
   "source": [
    "results_dir = Path('experiments')\n",
    "possible_experiment_settings = ('vanilla', 'memory', 'target', 'memory+target')"
   ]
  },
  {
   "cell_type": "code",
   "execution_count": 4,
   "metadata": {},
   "outputs": [
    {
     "name": "stdout",
     "output_type": "stream",
     "text": [
      "blog_post.md  dqn.py\t       experiments  Untitled.ipynb\r\n",
      "config.yaml   environment.yml  README.md\r\n"
     ]
    }
   ],
   "source": [
    "!ls"
   ]
  },
  {
   "cell_type": "code",
   "execution_count": 84,
   "metadata": {},
   "outputs": [
    {
     "data": {
      "text/plain": [
       "{'env': 'CartPole-v1', 'batch_size': 32, 'sample_memory': True, 'memory_capacity': 1000000, 'hidden_sizes': [128], 'num_episodes': 200, 'epsilon': 1.0, 'discount_factor': 0.99, 'exploration_steps': 1500, 'optimizer': 'Adam', 'lr': 0.001, 'use_target_net': False, 'update_target_freq': 10000, 'log_freq': 20}"
      ]
     },
     "execution_count": 84,
     "metadata": {},
     "output_type": "execute_result"
    }
   ],
   "source": [
    "config"
   ]
  },
  {
   "cell_type": "code",
   "execution_count": 85,
   "metadata": {},
   "outputs": [],
   "source": [
    "def get_experiment_setting(config):\n",
    "    result = 'vanilla'\n",
    "    if config.sample_memory and config.use_target_net:\n",
    "        result = 'memory+target'\n",
    "    elif config.sample_memory:\n",
    "        result = 'memory'\n",
    "    elif config.use_target_net:\n",
    "        result = 'target'\n",
    "    return result"
   ]
  },
  {
   "cell_type": "code",
   "execution_count": 98,
   "metadata": {},
   "outputs": [],
   "source": [
    "def load_experiment_results():\n",
    "    \"\"\"\n",
    "    Extract info from all experiments.\n",
    "    \n",
    "    Returns a dictionary: result[environment][experiment_setting][config][seed] -> dataframe for 1 run\n",
    "    \"\"\"\n",
    "    result = {}\n",
    "\n",
    "    for experiment_dir in list(results_dir.glob('*')):\n",
    "        # skip yaml and other bs files\n",
    "        if not experiment_dir.is_dir():\n",
    "            continue\n",
    "\n",
    "        hydra_dir = experiment_dir / '.hydra'\n",
    "        config_file = hydra_dir / 'config.yaml'\n",
    "\n",
    "        with open(config_file) as f:\n",
    "            config = dict(yaml.safe_load(f))\n",
    "        seed = config.pop('seed')\n",
    "        config = DictConfig(config)\n",
    "\n",
    "        environment = config.env\n",
    "        experiment_setting = get_experiment_setting(config)\n",
    "        \n",
    "        if environment not in result:\n",
    "            result[environment] = {}\n",
    "        if experiment_setting not in result[environment]:\n",
    "            result[environment][experiment_setting] = {}\n",
    "        if config not in result[environment][experiment_setting]:\n",
    "            result[environment][experiment_setting][config] = {}\n",
    "        # if same experiment and same seed, only use one of them and skip the rest\n",
    "        if seed not in result[environment][experiment_setting][config]:\n",
    "            df = pd.read_csv(experiment_dir / 'exp_records.csv', index_col=0)\n",
    "            result[environment][experiment_setting][config][seed] = df\n",
    "    return result"
   ]
  },
  {
   "cell_type": "code",
   "execution_count": 101,
   "metadata": {},
   "outputs": [],
   "source": [
    "# %debug\n",
    "results = load_experiment_results()"
   ]
  },
  {
   "cell_type": "code",
   "execution_count": 216,
   "metadata": {},
   "outputs": [],
   "source": [
    "def get_max_q_values(results):\n",
    "    \"\"\"\n",
    "    Extract max q values from experiment results, which is output from `load_experiment_results`.\n",
    "    \n",
    "    Returns a dictionary: result[environment][experimential_setting] -> np array max q value for each run\n",
    "    \"\"\"\n",
    "    max_q_values = {}\n",
    "    for environment, environment_results in results.items():\n",
    "        if environment not in max_q_values:\n",
    "            max_q_values[environment] = {}\n",
    "        for experimental_setting, setting_results in environment_results.items():\n",
    "            max_q_values[environment][experimental_setting] = []\n",
    "            for config, seeds_results in setting_results.items():\n",
    "                for seed, actual_results in seeds_results.items():\n",
    "                    max_q_value = actual_results.loc[actual_results.index[-1], 'max_q_values']\n",
    "                    max_q_values[environment][experimental_setting].append(max_q_value)\n",
    "            max_q_values[environment][experimental_setting] = np.array(max_q_values[environment][experimental_setting])\n",
    "            \n",
    "    return max_q_values"
   ]
  },
  {
   "cell_type": "code",
   "execution_count": 217,
   "metadata": {},
   "outputs": [],
   "source": [
    "max_q_values = get_max_q_values(results)"
   ]
  },
  {
   "cell_type": "code",
   "execution_count": 250,
   "metadata": {},
   "outputs": [],
   "source": [
    "def make_violinplots(q_vals, environment=None, figsize=(15,10), save_path=None):\n",
    "    \"\"\"\n",
    "    Make violinplots similar to van Hassalt et al.\n",
    "    \n",
    "    q_vals input from 'get_max_q_values' function.\n",
    "    \n",
    "    If environment is not specified, merge all environments together for the plot.\n",
    "    \"\"\"\n",
    "    max_q_dfs = {}\n",
    "    for env, vals in max_q_values.items():\n",
    "         max_q_dfs[env] = pd.DataFrame(vals)\n",
    "\n",
    "    if environment is not None:\n",
    "        df = max_q_dfs[environment]\n",
    "    else:\n",
    "        # merges all environments together\n",
    "        df = pd.concat([df for df in max_q_dfs.values()])\n",
    "\n",
    "    df_melt = pd.melt(df)\n",
    "\n",
    "    fig, ax = plt.subplots(figsize=figsize)\n",
    "    sns.violinplot(data=df_melt, x='variable', y='value', order=possible_experiment_settings, scale='count',\n",
    "                   cut=0, inner='stick', ax=ax)\n",
    "    ax.axhline(100, linestyle='--', color='black', linewidth=3)\n",
    "    ax.set_xlabel(None)\n",
    "    ax.set_ylabel('max abs Q', fontsize=20)\n",
    "    ax.set_yscale('log')\n",
    "    ax.yaxis.set_major_formatter(mticker.ScalarFormatter())\n",
    "    ax.grid(axis='y')\n",
    "    ax.tick_params(axis='x', labelsize=15)\n",
    "    if save_path is not None:\n",
    "        plt.savefig(save_path)"
   ]
  },
  {
   "cell_type": "code",
   "execution_count": 251,
   "metadata": {},
   "outputs": [
    {
     "data": {
      "image/png": "[encoded data removed]",
      "text/plain": [
       "<Figure size 1080x720 with 1 Axes>"
      ]
     },
     "metadata": {
      "needs_background": "light"
     },
     "output_type": "display_data"
    }
   ],
   "source": [
    "make_violinplots(max_q_values)"
   ]
  }
 ],
 "metadata": {
  "kernelspec": {
   "display_name": "Python 3.7.6 64-bit ('ir': conda)",
   "language": "python",
   "name": "python37664bitirconda699a36f48a4a4aa09cbcdd132ebff00d"
  },
  "language_info": {
   "codemirror_mode": {
    "name": "ipython",
    "version": 3
   },
   "file_extension": ".py",
   "mimetype": "text/x-python",
   "name": "python",
   "nbconvert_exporter": "python",
   "pygments_lexer": "ipython3",
   "version": "3.7.6"
  }
 },
 "nbformat": 4,
 "nbformat_minor": 4
}
